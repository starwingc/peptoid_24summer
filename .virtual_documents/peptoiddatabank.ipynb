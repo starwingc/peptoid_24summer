


import requests
import json
import pandas as pd
import matplotlib.pyplot as plt





#The link from RESTful API
#Change according to one's own server address

pep_url = 'http://127.0.0.1:5000/api/peptoids'
res_url = 'http://127.0.0.1:5000/api/residues'


#Sparce the json data

peptoids = requests.get(pep_url).json()
residues = requests.get(res_url).json()

#Save them into .json file

with open('data/peptoids.json', 'w') as pep_file:
    json.dump(peptoids, pep_file, indent=4)

with open('data/residues.json', 'w') as res_file:
    json.dump(residues, res_file, indent=4)


#Make residues dictionary 
flat_residues = {k: v for dictionary in residues for k, v in dictionary.items()} #flatten the residues dictionary 
df_res = pd.DataFrame(flat_residues.values(), index=flat_residues.keys()) #make a data frame
df_res.to_csv('data/residues.csv', index=False)
print(df_res)


#Make peptoids dictionary 
peptoids_list = []
for peptoid in peptoids:
    for peptoid_code, peptoid_info in peptoid.items():
        peptoid_info['peptoid_code'] = peptoid_code #add a column for peptoid_code
        df = pd.json_normalize(peptoid_info) #create a df for individual peptoid, Flatten the JSON data using pd.json_normalize
        peptoids_list.append(df) 

df_pep = pd.concat(peptoids_list, axis=0) #stack all the df vertically 
df_pep.to_csv('data/peptoids.csv', index=False)   

print(df_pep)





#create a csv with each indivual peptoid code as a column, and the sequence list in peptoid data bank and input
sequences_dict = {}
experimental_method = 'Solution NMR' #select the experimental method 

for peptoid in peptoids:
    for peptoid_code, data in peptoid.items():
        if data['experiment'] == experimental_method:
            sequences = data['sequence'].split("ine,")
            sequences = [
                seq.strip() + "ine" if i < len(sequences) - 1 else seq.strip() #making sure the sequence list are splited as desired 
                for i, seq in enumerate(sequences)
            ]
            sequences_dict[peptoid_code] = sequences

# Convert sequences_dict to DataFrame
df_seq = pd.DataFrame.from_dict(sequences_dict, orient='index').transpose()
print(df_seq)
df_seq.to_csv('data/sequences.csv', index=False)






smiles_dict = {}

# Iterate over the columns of the DataFrame
for col in df_seq.columns:
    smiles_dict[col] = []  # Initialize the list for storing SMILES
    
    # Iterate over each sequence in the column
    for seq in df_seq[col]:
        # Iterate over each row in res_df to find the corresponding SMILES
        for index, row in df_res.iterrows():
            if seq == row['full_nomenclature']:
                smile = row['SMILES']
                smiles_dict[col].append(smile)
                break  # Exit the inner loop once a match is found

df_smiles = pd.DataFrame.from_dict(smiles_dict, orient='index').transpose()
print(df_smiles)

df_smiles.to_csv('data/smiles.csv', index=False)


#Capped all the smile for generating the mol2 file
capped_smiles_dict = {}

# Iterate over the columns of the DataFrame
for col in df_seq.columns:
    capped_smiles_dict[col] = []  # Initialize the list for storing SMILES
    
    # Iterate over each sequence in the column
    for seq in df_seq[col]:
        # Iterate over each row in res_df to find the corresponding SMILES
        for index, row in df_res.iterrows():
            if seq == row['full_nomenclature']:
                smile = row['SMILES']
                clean_smile = smile.replace('*','')
                capped_smile = f"CC(=O){clean_smile}N(C)C"
                capped_smiles_dict[col].append(capped_smile)
                break  # Exit the inner loop once a match is found

capped_smiles_df = pd.DataFrame.from_dict(capped_smiles_dict, orient='index').transpose()
print(capped_smiles_df)

capped_smiles_df.to_csv('data/capped_smiles.csv', index=False)






