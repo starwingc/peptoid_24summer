{
 "cells": [
  {
   "cell_type": "markdown",
   "id": "338b5833-1e98-41d1-b2f2-3e36098675fd",
   "metadata": {},
   "source": [
    "# This notebook comparing the GAFF1 modelling data with the experimental value, taking the input from clustering.ipynb, in which all the results are in sampling/"
   ]
  },
  {
   "cell_type": "code",
   "execution_count": 6,
   "id": "553794d0-07f5-491a-85d6-feadc22bea61",
   "metadata": {},
   "outputs": [],
   "source": [
    "import mdtraj as md\n",
    "import numpy as np"
   ]
  },
  {
   "cell_type": "code",
   "execution_count": 23,
   "id": "03b4814f-4caf-4d3c-b178-b39ff6ec2681",
   "metadata": {},
   "outputs": [],
   "source": [
    "def compute_ensemble_avg_NOE(grouped_files, indices, verbose=False):\n",
    "\n",
    "    #indices = np.loadtxt(indices, dtype=int)\n",
    "    results = []\n",
    "    for i,state in enumerate(grouped_files):\n",
    "        distances = md.compute_distances(md.load(state), indices)*10. # convert nm to Å\n",
    "        print(distances.shape)\n",
    "        data = np.mean(np.array(distances), axis=0)\n",
    "        results.append(data)\n",
    "        #print(np.mean([d[0][1] for d in distances]))\n",
    "        #print(data)\n",
    "        #exit()\n",
    "        #np.savetxt(f'{outdir}/NOE_{i}.txt', data)\n",
    "    return results"
   ]
  },
  {
   "cell_type": "code",
   "execution_count": 24,
   "id": "df5b5e19-601c-4262-a335-0d94eb201c50",
   "metadata": {},
   "outputs": [
    {
     "name": "stdout",
     "output_type": "stream",
     "text": [
      "(10, 8)\n",
      "Distances: [array([2.9317842, 3.2018027, 3.0226872, 3.2559128, 2.8340402, 3.5889611,\n",
      "       2.7757835, 3.699246 ], dtype=float32)]\n"
     ]
    },
    {
     "ename": "TypeError",
     "evalue": "only integer scalar arrays can be converted to a scalar index",
     "output_type": "error",
     "traceback": [
      "\u001b[0;31m---------------------------------------------------------------------------\u001b[0m",
      "\u001b[0;31mTypeError\u001b[0m                                 Traceback (most recent call last)",
      "Cell \u001b[0;32mIn[24], line 32\u001b[0m\n\u001b[1;32m     30\u001b[0m \u001b[38;5;66;03m# Assign distances to the corresponding state\u001b[39;00m\n\u001b[1;32m     31\u001b[0m \u001b[38;5;28;01mfor\u001b[39;00m state \u001b[38;5;129;01min\u001b[39;00m state_distances:\n\u001b[0;32m---> 32\u001b[0m     state_distances[state] \u001b[38;5;241m=\u001b[39m \u001b[43mdistances\u001b[49m\u001b[43m[\u001b[49m\u001b[43mrestraint_indices\u001b[49m\u001b[43m \u001b[49m\u001b[38;5;241;43m==\u001b[39;49m\u001b[43m \u001b[49m\u001b[43mstate\u001b[49m\u001b[43m]\u001b[49m\n\u001b[1;32m     34\u001b[0m \u001b[38;5;66;03m# Calculate average distance for each state\u001b[39;00m\n\u001b[1;32m     35\u001b[0m avg_state_distances \u001b[38;5;241m=\u001b[39m {state: np\u001b[38;5;241m.\u001b[39mmean(dists) \u001b[38;5;28;01mfor\u001b[39;00m state, dists \u001b[38;5;129;01min\u001b[39;00m state_distances\u001b[38;5;241m.\u001b[39mitems()}\n",
      "\u001b[0;31mTypeError\u001b[0m: only integer scalar arrays can be converted to a scalar index"
     ]
    }
   ],
   "source": [
    "import numpy as np\n",
    "\n",
    "# Sample gmx_indices and restraint_indices\n",
    "gmx_indices = [\n",
    "    [12, 31],\n",
    "    [12, 32],\n",
    "    [13, 31],\n",
    "    [13, 32],\n",
    "    [40, 53],\n",
    "    [40, 54],\n",
    "    [41, 53],\n",
    "    [41, 54],\n",
    "]\n",
    "\n",
    "d_indices = np.array(gmx_indices) - 1  # Convert to 0-based indexing\n",
    "\n",
    "# Assuming pdb is a list of pdb file paths\n",
    "pdb = ['sampling/sample_state_0_cluster2_whole.pdb']\n",
    "\n",
    "# Compute distances\n",
    "distances = compute_ensemble_avg_NOE(pdb, d_indices)\n",
    "print(\"Distances:\", distances)\n",
    "\n",
    "# Provided restraint_indices\n",
    "restraint_indices = np.array([0, 0, 0, 0, 1, 1, 1, 1])\n",
    "\n",
    "# Initialize dictionary to hold distances for each state\n",
    "state_distances = {state: [] for state in np.unique(restraint_indices)}\n",
    "\n",
    "# Assign distances to the corresponding state\n",
    "for state in state_distances:\n",
    "    state_distances[state] = distances[restraint_indices == state]\n",
    "\n",
    "# Calculate average distance for each state\n",
    "avg_state_distances = {state: np.mean(dists) for state, dists in state_distances.items()}\n",
    "\n",
    "print(\"Average distances for each state:\", avg_state_distances)\n"
   ]
  },
  {
   "cell_type": "code",
   "execution_count": null,
   "id": "a79f3a45-eae6-42a5-824f-dd3e3b3e1e89",
   "metadata": {},
   "outputs": [],
   "source": []
  }
 ],
 "metadata": {
  "kernelspec": {
   "display_name": "AmberTool",
   "language": "python",
   "name": "ambertool"
  },
  "language_info": {
   "codemirror_mode": {
    "name": "ipython",
    "version": 3
   },
   "file_extension": ".py",
   "mimetype": "text/x-python",
   "name": "python",
   "nbconvert_exporter": "python",
   "pygments_lexer": "ipython3",
   "version": "3.9.15"
  }
 },
 "nbformat": 4,
 "nbformat_minor": 5
}
