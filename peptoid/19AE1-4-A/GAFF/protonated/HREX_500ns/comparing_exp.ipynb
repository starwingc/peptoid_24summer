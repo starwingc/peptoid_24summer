{
 "cells": [
  {
   "cell_type": "markdown",
   "id": "338b5833-1e98-41d1-b2f2-3e36098675fd",
   "metadata": {},
   "source": [
    "# This notebook comparing the GAFF1 modelling data with the experimental value, taking the input from clustering.ipynb, in which all the results are in sampling/"
   ]
  },
  {
   "cell_type": "code",
   "execution_count": 1,
   "id": "553794d0-07f5-491a-85d6-feadc22bea61",
   "metadata": {},
   "outputs": [],
   "source": [
    "import mdtraj as md\n",
    "import numpy as np"
   ]
  },
  {
   "cell_type": "code",
   "execution_count": 7,
   "id": "03b4814f-4caf-4d3c-b178-b39ff6ec2681",
   "metadata": {},
   "outputs": [],
   "source": [
    "def compute_ensemble_avg_NOE(grouped_files, indices, verbose=False):\n",
    "\n",
    "    #indices = np.loadtxt(indices, dtype=int)\n",
    "    results = []\n",
    "    for i,state in enumerate(grouped_files):\n",
    "        distances = md.compute_distances(md.load(state), indices)*10. # convert nm to Å\n",
    "        #print(distances.shape)\n",
    "        data = np.mean(np.array(distances), axis=0)\n",
    "        results.append(data)\n",
    "        #print(np.mean([d[0][1] for d in distances]))\n",
    "        #print(data)\n",
    "        #exit()\n",
    "        #np.savetxt(f'{outdir}/NOE_{i}.txt', data)\n",
    "    return results"
   ]
  },
  {
   "cell_type": "code",
   "execution_count": 10,
   "id": "df5b5e19-601c-4262-a335-0d94eb201c50",
   "metadata": {},
   "outputs": [
    {
     "name": "stdout",
     "output_type": "stream",
     "text": [
      "For Cluster 0, the average state distances are: {0: 3.1540895, 1: 4.649834}\n",
      "For Cluster 1, the average state distances are: {0: 3.1926737, 1: 4.654296}\n",
      "For Cluster 2, the average state distances are: {0: 3.1588025, 1: 3.189073}\n",
      "For Cluster 3, the average state distances are: {0: 3.1444707, 1: 3.2033994}\n",
      "For Cluster 4, the average state distances are: {0: 4.5766826, 1: 3.2233033}\n",
      "For Cluster 5, the average state distances are: {0: 4.5842586, 1: 3.2173722}\n"
     ]
    }
   ],
   "source": [
    "import numpy as np\n",
    "\n",
    "# Sample gmx_indices and restraint_indices\n",
    "gmx_indices = [\n",
    "    [12, 31],\n",
    "    [12, 32],\n",
    "    [13, 31],\n",
    "    [13, 32],\n",
    "    [40, 53],\n",
    "    [40, 54],\n",
    "    [41, 53],\n",
    "    [41, 54],\n",
    "]\n",
    "\n",
    "d_indices = np.array(gmx_indices) - 1  # Convert to 0-based indexing\n",
    "restraint_indices = np.array([0, 0, 0, 0, 1, 1, 1, 1])  # Provided restraint_indices\n",
    "    \n",
    "\n",
    "for cluster in range(6): \n",
    "    # Assuming pdb is a list of pdb file paths\n",
    "    pdb = [f\"sampling/sample_state_0_cluster{cluster}_whole.pdb\"]\n",
    "\n",
    "    # Compute distances\n",
    "    distances = compute_ensemble_avg_NOE(pdb, d_indices)\n",
    "    distances = np.array(distances).flatten()\n",
    "\n",
    "    # Initialize dictionary to hold distances for each state\n",
    "    state_distances = {state: [] for state in np.unique(restraint_indices)}\n",
    "\n",
    "    # Assign distances to the corresponding state\n",
    "    for state in state_distances:\n",
    "        state_distances[state] = distances[restraint_indices == state]\n",
    "    \n",
    "    # Calculate average distance for each state\n",
    "    avg_state_distances = {state: np.mean(dists) for state, dists in state_distances.items()}\n",
    "    print(f\"For Cluster {cluster}, the average state distances are: {avg_state_distances}\")\n"
   ]
  },
  {
   "cell_type": "code",
   "execution_count": null,
   "id": "a79f3a45-eae6-42a5-824f-dd3e3b3e1e89",
   "metadata": {},
   "outputs": [],
   "source": []
  }
 ],
 "metadata": {
  "kernelspec": {
   "display_name": "AmberTool",
   "language": "python",
   "name": "ambertool"
  },
  "language_info": {
   "codemirror_mode": {
    "name": "ipython",
    "version": 3
   },
   "file_extension": ".py",
   "mimetype": "text/x-python",
   "name": "python",
   "nbconvert_exporter": "python",
   "pygments_lexer": "ipython3",
   "version": "3.9.15"
  }
 },
 "nbformat": 4,
 "nbformat_minor": 5
}
