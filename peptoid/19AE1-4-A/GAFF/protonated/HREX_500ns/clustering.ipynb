{
 "cells": [
  {
   "cell_type": "markdown",
   "id": "f6042322-f85f-4ba5-9cb9-f8c0c12076da",
   "metadata": {},
   "source": [
    "# This notebook take the input from omega_analysis.ipynb output omega*.npy, and using {} to cluster them."
   ]
  },
  {
   "cell_type": "code",
   "execution_count": 1,
   "id": "6cfeb150-87e2-4fe0-9076-4c6e9edfd136",
   "metadata": {},
   "outputs": [
    {
     "name": "stdout",
     "output_type": "stream",
     "text": [
      "(50001, 3)\n"
     ]
    },
    {
     "data": {
      "image/png": "[encoded data removed]",
      "text/plain": [
       "<Figure size 640x480 with 1 Axes>"
      ]
     },
     "metadata": {},
     "output_type": "display_data"
    }
   ],
   "source": [
    "import numpy as np\n",
    "from sklearn.cluster import KMeans\n",
    "import matplotlib.pyplot as plt\n",
    "\n",
    "# Load the omegas data\n",
    "omegas = np.load('omega_data/omegas_rep0.npy')\n",
    "#print(omegas[:10])\n",
    "print(omegas.shape)\n",
    "\n",
    "wcss = [] # within-cluster sum of squares\n",
    "for i in range(1, 100):\n",
    "    kmeans = KMeans(n_clusters=i, random_state=42)\n",
    "    kmeans.fit(omegas)\n",
    "    wcss.append(kmeans.inertia_)\n",
    "\n",
    "plt.plot(range(1, 100), wcss)\n",
    "plt.title('Elbow Method')\n",
    "plt.xlabel('Number of clusters')\n",
    "plt.ylabel('WCSS')\n",
    "plt.show()\n"
   ]
  },
  {
   "cell_type": "code",
   "execution_count": 2,
   "id": "78d67c25-65e1-4c57-81d2-19e53e1ac7ed",
   "metadata": {},
   "outputs": [
    {
     "ename": "NameError",
     "evalue": "name 'pd' is not defined",
     "output_type": "error",
     "traceback": [
      "\u001b[0;31m---------------------------------------------------------------------------\u001b[0m",
      "\u001b[0;31mNameError\u001b[0m                                 Traceback (most recent call last)",
      "Cell \u001b[0;32mIn[2], line 10\u001b[0m\n\u001b[1;32m      7\u001b[0m unique_labels, counts \u001b[38;5;241m=\u001b[39m np\u001b[38;5;241m.\u001b[39munique(cluster_labels, return_counts\u001b[38;5;241m=\u001b[39m\u001b[38;5;28;01mTrue\u001b[39;00m)\n\u001b[1;32m      9\u001b[0m \u001b[38;5;66;03m# Create a DataFrame for better formatting\u001b[39;00m\n\u001b[0;32m---> 10\u001b[0m cluster_info \u001b[38;5;241m=\u001b[39m \u001b[43mpd\u001b[49m\u001b[38;5;241m.\u001b[39mDataFrame({\u001b[38;5;124m'\u001b[39m\u001b[38;5;124mCluster\u001b[39m\u001b[38;5;124m'\u001b[39m: unique_labels, \u001b[38;5;124m'\u001b[39m\u001b[38;5;124mCount\u001b[39m\u001b[38;5;124m'\u001b[39m: counts})\n\u001b[1;32m     12\u001b[0m \u001b[38;5;66;03m# Print the cluster info\u001b[39;00m\n\u001b[1;32m     13\u001b[0m \u001b[38;5;28mprint\u001b[39m(cluster_info)\n",
      "\u001b[0;31mNameError\u001b[0m: name 'pd' is not defined"
     ]
    }
   ],
   "source": [
    "optimal_clusters = 8  \n",
    "kmeans = KMeans(n_clusters=optimal_clusters, random_state=0)\n",
    "kmeans.fit(omegas)\n",
    "\n",
    "cluster_labels = kmeans.labels_\n",
    "# Count the number of data points in each cluster\n",
    "unique_labels, counts = np.unique(cluster_labels, return_counts=True)\n",
    "\n",
    "# Create a DataFrame for better formatting\n",
    "cluster_info = pd.DataFrame({'Cluster': unique_labels, 'Count': counts})\n",
    "\n",
    "# Print the cluster info\n",
    "print(cluster_info)"
   ]
  },
  {
   "cell_type": "code",
   "execution_count": null,
   "id": "ab07a49f-b82a-4efe-b93b-c2cfb575567d",
   "metadata": {},
   "outputs": [],
   "source": [
    "from mpl_toolkits.mplot3d import Axes3D\n",
    "\n",
    "# 3D Scatter plot of clusters\n",
    "fig = plt.figure(figsize=(16, 10))\n",
    "ax = fig.add_subplot(111, projection='3d')\n",
    "scatter = ax.scatter(omegas[:, 0], omegas[:, 1], omegas[:, 2], c=cluster_labels, cmap='tab20')  # Use 'tab20' colormap for distinct colors\n",
    "\n",
    "ax.set_title('3D Scatter Plot of Clusters')\n",
    "ax.set_xlabel('X')\n",
    "ax.set_ylabel('Y')\n",
    "ax.set_zlabel('Z')\n",
    "\n",
    "# Create a legend and place it in the upper right corner\n",
    "handles, labels = scatter.legend_elements(prop=\"colors\", alpha=0.6)\n",
    "# Format the labels correctly without conversion\n",
    "legend1 = ax.legend(handles, [f\"Cluster {i}\" for i in range(optimal_clusters)], title=\"Clusters\", loc=\"upper left\", bbox_to_anchor=(0.8, 1), prop={'size': 8})\n",
    "ax.add_artist(legend1)\n",
    "\n",
    "plt.show()"
   ]
  },
  {
   "cell_type": "code",
   "execution_count": 3,
   "id": "69d6dd5d-80c0-406e-805f-b977e3084f25",
   "metadata": {},
   "outputs": [
    {
     "ename": "NameError",
     "evalue": "name 'tqdm' is not defined",
     "output_type": "error",
     "traceback": [
      "\u001b[0;31m---------------------------------------------------------------------------\u001b[0m",
      "\u001b[0;31mNameError\u001b[0m                                 Traceback (most recent call last)",
      "Cell \u001b[0;32mIn[3], line 8\u001b[0m\n\u001b[1;32m      1\u001b[0m \u001b[38;5;66;03m# Initialize KMeans estimator\u001b[39;00m\n\u001b[1;32m      2\u001b[0m estimator \u001b[38;5;241m=\u001b[39m KMeans(\n\u001b[1;32m      3\u001b[0m     n_clusters\u001b[38;5;241m=\u001b[39m\u001b[38;5;241m3\u001b[39m,  \u001b[38;5;66;03m# number of clusters\u001b[39;00m\n\u001b[1;32m      4\u001b[0m     init_strategy\u001b[38;5;241m=\u001b[39m\u001b[38;5;124m'\u001b[39m\u001b[38;5;124muniform\u001b[39m\u001b[38;5;124m'\u001b[39m,  \u001b[38;5;66;03m# uniform initialization strategy\u001b[39;00m\n\u001b[1;32m      5\u001b[0m     max_iter\u001b[38;5;241m=\u001b[39m\u001b[38;5;241m0\u001b[39m,  \u001b[38;5;66;03m# don't actually perform the optimization, just place centers\u001b[39;00m\n\u001b[1;32m      6\u001b[0m     fixed_seed\u001b[38;5;241m=\u001b[39m\u001b[38;5;241m13\u001b[39m,\n\u001b[1;32m      7\u001b[0m     n_jobs\u001b[38;5;241m=\u001b[39m\u001b[38;5;241m8\u001b[39m,\n\u001b[0;32m----> 8\u001b[0m     progress\u001b[38;5;241m=\u001b[39m\u001b[43mtqdm\u001b[49m\n\u001b[1;32m      9\u001b[0m )\n\u001b[1;32m     11\u001b[0m \u001b[38;5;66;03m# Perform clustering\u001b[39;00m\n\u001b[1;32m     12\u001b[0m clustering \u001b[38;5;241m=\u001b[39m estimator\u001b[38;5;241m.\u001b[39mfit(omegas)\u001b[38;5;241m.\u001b[39mfetch_model()\n",
      "\u001b[0;31mNameError\u001b[0m: name 'tqdm' is not defined"
     ]
    }
   ],
   "source": [
    "# Initialize KMeans estimator\n",
    "estimator = KMeans(\n",
    "    n_clusters=3,  # number of clusters\n",
    "    init_strategy='uniform',  # uniform initialization strategy\n",
    "    max_iter=0,  # don't actually perform the optimization, just place centers\n",
    "    fixed_seed=13,\n",
    "    n_jobs=8,\n",
    "    progress=tqdm\n",
    ")\n",
    "\n",
    "# Perform clustering\n",
    "clustering = estimator.fit(omegas).fetch_model()\n",
    "assignments = clustering.transform(omegas)\n",
    "\n",
    "# Plot the results\n",
    "f, (ax1, ax2) = plt.subplots(1, 2, figsize=(14, 5))\n",
    "f.suptitle('Cluster centers and assignments directly after uniform initialization')\n",
    "\n",
    "# Assuming 'samples' variable refers to the same data as 'omegas'\n",
    "ax1.hexbin(*(omegas.T), bins='log')\n",
    "ax1.scatter(*(clustering.cluster_centers.T), marker='o', c='m')\n",
    "ax1.axis('off')\n",
    "ax1.set_title('cluster centers')\n",
    "\n",
    "ax2.scatter(*(omegas[::10].T), c=assignments[::10])\n",
    "ax2.axis('off')\n",
    "ax2.set_title('assignments of data to centers')\n",
    "\n",
    "plt.show()"
   ]
  },
  {
   "cell_type": "code",
   "execution_count": 4,
   "id": "7c6bee38-1f51-4917-bc30-e3b72eb82d9f",
   "metadata": {},
   "outputs": [
    {
     "ename": "NameError",
     "evalue": "name 'clustering' is not defined",
     "output_type": "error",
     "traceback": [
      "\u001b[0;31m---------------------------------------------------------------------------\u001b[0m",
      "\u001b[0;31mNameError\u001b[0m                                 Traceback (most recent call last)",
      "Cell \u001b[0;32mIn[4], line 2\u001b[0m\n\u001b[1;32m      1\u001b[0m \u001b[38;5;66;03m# Set initial centers and increase max iterations for the new clustering\u001b[39;00m\n\u001b[0;32m----> 2\u001b[0m estimator\u001b[38;5;241m.\u001b[39minitial_centers \u001b[38;5;241m=\u001b[39m \u001b[43mclustering\u001b[49m\u001b[38;5;241m.\u001b[39mcluster_centers\n\u001b[1;32m      3\u001b[0m estimator\u001b[38;5;241m.\u001b[39mmax_iter \u001b[38;5;241m=\u001b[39m \u001b[38;5;241m5000\u001b[39m\n\u001b[1;32m      5\u001b[0m \u001b[38;5;66;03m# Perform new clustering with extended iterations\u001b[39;00m\n",
      "\u001b[0;31mNameError\u001b[0m: name 'clustering' is not defined"
     ]
    }
   ],
   "source": [
    "# Set initial centers and increase max iterations for the new clustering\n",
    "estimator.initial_centers = clustering.cluster_centers\n",
    "estimator.max_iter = 5000\n",
    "\n",
    "# Perform new clustering with extended iterations\n",
    "clustering_new = estimator.fit(omegas).fetch_model()\n",
    "\n",
    "# Plot the new clustering results\n",
    "f, (ax1, ax2) = plt.subplots(1, 2, figsize=(14, 5))\n",
    "f.suptitle('Cluster centers and assignments k-means with uniform initialization')\n",
    "\n",
    "ax1.hexbin(*(omegas.T), bins='log')\n",
    "ax1.scatter(*(clustering_new.cluster_centers.T), marker='o', c='m')\n",
    "ax1.axis('off')\n",
    "ax1.set_title('cluster centers')\n",
    "\n",
    "ax2.scatter(*(omegas[::10].T), c=clustering_new.transform(omegas)[::10])\n",
    "ax2.axis('off')\n",
    "ax2.set_title('assignments of data to centers')\n",
    "\n",
    "plt.show()"
   ]
  },
  {
   "cell_type": "code",
   "execution_count": 5,
   "id": "0c820114-cc26-43f4-a471-e10f74c5e3b1",
   "metadata": {},
   "outputs": [
    {
     "ename": "NameError",
     "evalue": "name 'clustering_new' is not defined",
     "output_type": "error",
     "traceback": [
      "\u001b[0;31m---------------------------------------------------------------------------\u001b[0m",
      "\u001b[0;31mNameError\u001b[0m                                 Traceback (most recent call last)",
      "Cell \u001b[0;32mIn[5], line 1\u001b[0m\n\u001b[0;32m----> 1\u001b[0m plt\u001b[38;5;241m.\u001b[39mloglog(\u001b[43mclustering_new\u001b[49m\u001b[38;5;241m.\u001b[39minertias)\n\u001b[1;32m      2\u001b[0m plt\u001b[38;5;241m.\u001b[39mxlabel(\u001b[38;5;124m\"\u001b[39m\u001b[38;5;124miteration\u001b[39m\u001b[38;5;124m\"\u001b[39m)\n\u001b[1;32m      3\u001b[0m plt\u001b[38;5;241m.\u001b[39mylabel(\u001b[38;5;124m\"\u001b[39m\u001b[38;5;124minertia\u001b[39m\u001b[38;5;124m\"\u001b[39m)\n",
      "\u001b[0;31mNameError\u001b[0m: name 'clustering_new' is not defined"
     ]
    }
   ],
   "source": [
    "plt.loglog(clustering_new.inertias)\n",
    "plt.xlabel(\"iteration\")\n",
    "plt.ylabel(\"inertia\")\n",
    "plt.title(\"KMeans with uniform initialization inertia during training\");\n"
   ]
  },
  {
   "cell_type": "code",
   "execution_count": null,
   "id": "a330373c-59cb-40d9-9716-9633ea771a80",
   "metadata": {},
   "outputs": [],
   "source": []
  }
 ],
 "metadata": {
  "kernelspec": {
   "display_name": "AmberTool",
   "language": "python",
   "name": "ambertool"
  },
  "language_info": {
   "codemirror_mode": {
    "name": "ipython",
    "version": 3
   },
   "file_extension": ".py",
   "mimetype": "text/x-python",
   "name": "python",
   "nbconvert_exporter": "python",
   "pygments_lexer": "ipython3",
   "version": "3.9.15"
  }
 },
 "nbformat": 4,
 "nbformat_minor": 5
}
