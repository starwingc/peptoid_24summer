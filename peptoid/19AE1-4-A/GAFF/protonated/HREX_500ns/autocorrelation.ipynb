{
 "cells": [
  {
   "cell_type": "markdown",
   "id": "553bb284-f6d0-4abf-bcc6-760903b86056",
   "metadata": {},
   "source": [
    "# This notebook is to calculate the AutoCorrelation using the omega_data/ input from omega_analysis.ipynb"
   ]
  },
  {
   "cell_type": "markdown",
   "id": "612496ef-ef83-4d2d-acd0-8c75f9a57f8c",
   "metadata": {},
   "source": [
    "## Autocoorelation "
   ]
  },
  {
   "cell_type": "code",
   "execution_count": null,
   "id": "de6e5e41-025a-4893-90cf-03c19f156681",
   "metadata": {},
   "outputs": [],
   "source": [
    "def autocorr(x):\n",
    "    tau = x.size\n",
    "    mu = x.mean()\n",
    "    g = np.correlate(x, x, mode='full')[tau-1:]\n",
    "    n = np.arange(tau,0,-1)\n",
    "    return g/n\n",
    "\n",
    "avg_autocorrel = [] \n",
    "for residue in range(3):\n",
    "    all_autocorrel = []\n",
    "    for replica in range(6):\n",
    "        # Example calculation, replace with your actual calculation\n",
    "        cis_trans = np.where(all_omegas[replica,:,residue] > 90.0, 1.0, 0.0)\n",
    "        print(f\"residue {residue}, replica {replica}, cis_trans: {cis_trans}\")\n",
    "        \n",
    "        all_autocorrel.append(autocorr(cis_trans))\n",
    "    \n",
    "    avg_autocorrel.append(np.array(all_autocorrel).mean(axis=0))\n",
    "    outfile = f'omega_data/omega_autocorrel_residue{residue}.npy'\n",
    "    print(f\"Saving {outfile} ...\")\n",
    "    np.save(outfile, avg_autocorrel[-1]) \n"
   ]
  },
  {
   "cell_type": "code",
   "execution_count": null,
   "id": "e10ac6fd-7849-46fc-9d55-3fd460d5d998",
   "metadata": {},
   "outputs": [],
   "source": [
    "avg_autocorrels = []\n",
    "plt.figure(figsize=(6,5))\n",
    "t = np.arange(0, len(cis_trans))*0.010 # frames saved every 10 ps\n",
    "\n",
    "for residue in range(0,3):   # the last residue\n",
    "    infile = f'omega_data/omega_autocorrel_residue{residue}.npy'\n",
    "    data = np.load(infile)\n",
    "    avg_autocorrels.append(data)\n",
    "    plt.plot(t, data, label='res %d'%residue)\n",
    "    plt.xlim(0,400) # only show first part of the autocorrelation curves\n",
    "    plt.ylim(0,0.2) # only show first part of the autocorrelation curves\n",
    "\n",
    "plt.xlabel('time (ns)')\n",
    "plt.ylabel('autocorrelation of omega angles')\n",
    "plt.legend(loc='upper right', fontsize=12)\n",
    "\n",
    "plt.show()"
   ]
  },
  {
   "cell_type": "code",
   "execution_count": null,
   "id": "dbc19afc-dd90-4d00-8fc1-053ad0afe396",
   "metadata": {},
   "outputs": [],
   "source": [
    "import numpy as np\n",
    "import matplotlib.pyplot as plt\n",
    "from scipy.optimize import curve_fit\n",
    "\n",
    "# Functional form for fitting\n",
    "def single_exp_decay(x, a0, a1, tau):\n",
    "    return a0 + a1 * np.exp(-x / tau)\n",
    "\n",
    "# Fit each autocorrelation and plot results\n",
    "fit_taus = []\n",
    "\n",
    "plt.figure(figsize=(12, 6))\n",
    "\n",
    "# Loop over each residue\n",
    "for residue in range(3):\n",
    "    \n",
    "    # Initial guess for fitting parameters\n",
    "    first_value = avg_autocorrels[residue][0]\n",
    "    initial_guess = [first_value / 2.0, first_value / 2.0, 40.0]  # Initial guess [a0, a1, tau]\n",
    "    \n",
    "    # Perform curve fitting\n",
    "    popt, pcov = curve_fit(single_exp_decay, t[:40000], avg_autocorrels[residue][:40000], p0=initial_guess)\n",
    "    \n",
    "    # Compute fitted curve\n",
    "    y_fit = single_exp_decay(t[:40000], *popt)\n",
    "    \n",
    "    # Collect fitted tau values\n",
    "    fit_taus.append(popt[2])\n",
    "    \n",
    "    # Print fit results\n",
    "    print(f'--- Residue {residue} ---')\n",
    "    print('### FIT to a0 + a1*exp(-(x/tau)) ###')\n",
    "    print(f'Best-fit a0: {popt[0]} +/- {pcov[0][0]}')\n",
    "    print(f'Best-fit a1: {popt[1]} +/- {pcov[1][1]}')\n",
    "    print(f'Best-fit tau: {popt[2]} +/- {pcov[2][2]}')\n",
    "\n",
    "    # Plot original data and fitted curve\n",
    "    plt.subplot(1, 2, 1)\n",
    "    plt.plot(t[:40000], avg_autocorrels[residue][:40000], label=f'Residue {residue}')\n",
    "    plt.plot(t[:40000], y_fit, 'k--', label='Fit')\n",
    "    plt.xlim(0, 400)\n",
    "    plt.ylim(0, 0.2)\n",
    "    plt.xlabel('Time (ns)')\n",
    "    plt.ylabel('Autocorrelation of Omega Angles')\n",
    "    plt.legend(loc='upper right', fontsize=10)\n",
    "    \n",
    "# Plotting the fitted tau values\n",
    "plt.subplot(1, 2, 2)\n",
    "plt.plot(range(1, 4), fit_taus, '*', markersize=10)\n",
    "plt.xlim(0, 4)\n",
    "plt.xlabel('Residue')\n",
    "plt.ylabel('Autocorrelation Time (ns)')\n",
    "plt.tight_layout()\n",
    "\n",
    "plt.show()\n"
   ]
  }
 ],
 "metadata": {
  "kernelspec": {
   "display_name": "AmberTool",
   "language": "python",
   "name": "ambertool"
  },
  "language_info": {
   "codemirror_mode": {
    "name": "ipython",
    "version": 3
   },
   "file_extension": ".py",
   "mimetype": "text/x-python",
   "name": "python",
   "nbconvert_exporter": "python",
   "pygments_lexer": "ipython3",
   "version": "3.9.15"
  }
 },
 "nbformat": 4,
 "nbformat_minor": 5
}
