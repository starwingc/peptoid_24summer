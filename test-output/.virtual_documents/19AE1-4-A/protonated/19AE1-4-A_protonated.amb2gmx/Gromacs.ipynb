# Convert this to a grofile with a truncated octahedral box
#     box type: octahedron
#     make box boundaries 1.0 nm from protein
#     (the protein will be centered in the box automatically)

###editconf -f peptoid.gro -o peptoid_boxed.gro -bt cubic -d 0.8

# solvate the strutcure
#     options: 

###genbox -cp peptoid_boxed.gro -cs spc216.gro -o peptoid_solvated.gro

# build a topology file by hand
###exit

# make an index file
make_ndx -f peptoid_solvated.gro -o index.ndx

# Add counterions at ~100 mM to neutralize the system
### We need a tpr so that genion will work!
grompp -f mdp/minimize.mdp -c peptoid_solvated.gro -p peptoid_solvated.top -n index.ndx -o minimize.tpr
### NOTE that genion will overwite your topology file (!) recalcultig the numbers of SOL, Na and Cl molecules
genion -s minimize.tpr -n index.ndx -p peptoid_solvated.top -o solvent_ions.gro -pname NA -nname CL  -neutral -conc 0.1
make_ndx -f solvent_ions.gro -o index.ndx

# Minimize
grompp -f mdp/minimize.mdp -c solvent_ions.gro -p peptoid_solvated.top -n index.ndx -o minimize.tpr
mdrun -v -nt 4 -s minimize.tpr -c minimized.gro

# Equilibrate with pressure coupling on (Berendsen)
grompp -f mdp/equil.mdp -c minimized.gro -p peptoid_solvated.top -n index.ndx -o equil.tpr
mdrun -v -nt 4 -s equil.tpr -c peptoid_solvated_equilibrated.gro





import py3Dmol

# Load the GRO TPR file content
with open('19AE1-4-A_protonated_GMX.gro', 'r') as file:  # Removed the extra space in the filename
    gro_content = file.read()

# Initialize the viewer
view = py3Dmol.view()

# Add the GRO content to the viewer
view.addModel(gro_content, 'gro')  # Ensure 'gro' matches the format of your file

# Set the style for better visualization
view.setStyle({'stick': {}})

# Zoom to fit the molecule in the viewer
view.zoomTo()

# Show the viewer
view.show()






!gmx -h


# make a cubic 1A box

!gmx editconf -f 19AE1-4-A_protonated_GMX.gro -o 19AE1-4-A_protonated_GMX_boxed.gro -bt cubic -d 1.0


# Fill the box with water as solvent 
!gmx solvate -cp 19AE1-4-A_protonated_GMX_boxed.gro -cs spc216.gro -o 19AE1-4-A_protonated_GMX_solv.gro


# make an index file
!gmx make_ndx -f 19AE1-4-A_protonated_GMX_solv.gro -o index.ndx


# Add counterions at ~100 mM to neutralize the system
### We need a tpr so that genion will work!
!gmx grompp -f minimize.mdp -c 19AE1-4-A_protonated_GMX_solv.gro -p 19AE1-4-A_protonated_GMX.top -n index.ndx -o minimize.tpr


ls



