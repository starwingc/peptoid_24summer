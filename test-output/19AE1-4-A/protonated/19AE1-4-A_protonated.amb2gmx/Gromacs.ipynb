{
 "cells": [
  {
   "cell_type": "code",
   "execution_count": null,
   "id": "d628f5a1-f468-4fb7-9b2a-def60b2600c6",
   "metadata": {},
   "outputs": [],
   "source": [
    "# Convert this to a grofile with a truncated octahedral box\n",
    "#     box type: octahedron\n",
    "#     make box boundaries 1.0 nm from protein\n",
    "#     (the protein will be centered in the box automatically)\n",
    "\n",
    "###editconf -f peptoid.gro -o peptoid_boxed.gro -bt cubic -d 0.8\n",
    "\n",
    "# solvate the strutcure\n",
    "#     options: \n",
    "\n",
    "###genbox -cp peptoid_boxed.gro -cs spc216.gro -o peptoid_solvated.gro\n",
    "\n",
    "# build a topology file by hand\n",
    "###exit\n",
    "\n",
    "# make an index file\n",
    "make_ndx -f peptoid_solvated.gro -o index.ndx\n",
    "\n",
    "# Add counterions at ~100 mM to neutralize the system\n",
    "### We need a tpr so that genion will work!\n",
    "grompp -f mdp/minimize.mdp -c peptoid_solvated.gro -p peptoid_solvated.top -n index.ndx -o minimize.tpr\n",
    "### NOTE that genion will overwite your topology file (!) recalcultig the numbers of SOL, Na and Cl molecules\n",
    "genion -s minimize.tpr -n index.ndx -p peptoid_solvated.top -o solvent_ions.gro -pname NA -nname CL  -neutral -conc 0.1\n",
    "make_ndx -f solvent_ions.gro -o index.ndx\n",
    "\n",
    "# Minimize\n",
    "grompp -f mdp/minimize.mdp -c solvent_ions.gro -p peptoid_solvated.top -n index.ndx -o minimize.tpr\n",
    "mdrun -v -nt 4 -s minimize.tpr -c minimized.gro\n",
    "\n",
    "# Equilibrate with pressure coupling on (Berendsen)\n",
    "grompp -f mdp/equil.mdp -c minimized.gro -p peptoid_solvated.top -n index.ndx -o equil.tpr\n",
    "mdrun -v -nt 4 -s equil.tpr -c peptoid_solvated_equilibrated.gro"
   ]
  },
  {
   "cell_type": "markdown",
   "id": "3aacc4af-4ecd-4dc1-bd5d-f3ed06d7e7ac",
   "metadata": {
    "jp-MarkdownHeadingCollapsed": true
   },
   "source": [
    "# Visulize the gro file"
   ]
  },
  {
   "cell_type": "code",
   "execution_count": 2,
   "id": "b9edb9d0-0511-4716-9953-9cd12d39429d",
   "metadata": {},
   "outputs": [
    {
     "data": {
      "application/3dmoljs_load.v0": "<div id=\"3dmolviewer_1717437785010102\"  style=\"position: relative; width: 640px; height: 480px;\">\n        <p id=\"3dmolwarning_1717437785010102\" style=\"background-color:#ffcccc;color:black\">3Dmol.js failed to load for some reason.  Please check your browser console for error messages.<br></p>\n        </div>\n<script>\n\nvar loadScriptAsync = function(uri){\n  return new Promise((resolve, reject) => {\n    //this is to ignore the existence of requirejs amd\n    var savedexports, savedmodule;\n    if (typeof exports !== 'undefined') savedexports = exports;\n    else exports = {}\n    if (typeof module !== 'undefined') savedmodule = module;\n    else module = {}\n\n    var tag = document.createElement('script');\n    tag.src = uri;\n    tag.async = true;\n    tag.onload = () => {\n        exports = savedexports;\n        module = savedmodule;\n        resolve();\n    };\n  var firstScriptTag = document.getElementsByTagName('script')[0];\n  firstScriptTag.parentNode.insertBefore(tag, firstScriptTag);\n});\n};\n\nif(typeof $3Dmolpromise === 'undefined') {\n$3Dmolpromise = null;\n  $3Dmolpromise = loadScriptAsync('https://cdnjs.cloudflare.com/ajax/libs/3Dmol/2.1.0/3Dmol-min.js');\n}\n\nvar viewer_1717437785010102 = null;\nvar warn = document.getElementById(\"3dmolwarning_1717437785010102\");\nif(warn) {\n    warn.parentNode.removeChild(warn);\n}\n$3Dmolpromise.then(function() {\nviewer_1717437785010102 = $3Dmol.createViewer(document.getElementById(\"3dmolviewer_1717437785010102\"),{backgroundColor:\"white\"});\nviewer_1717437785010102.zoomTo();\n\tviewer_1717437785010102.addModel(\"19AE1-4-A_protonated_GMX.gro created by acpype (v: 2023.10.27) on Tue May 28 15:05:17 2024\\n 83\\n    1  NAE    N    1  -0.106  -0.043  -0.002\\n    1  NAE   C1    2  -0.225   0.042  -0.002\\n    1  NAE   C2    3  -0.351  -0.045  -0.003\\n    1  NAE   N2    4  -0.468   0.039  -0.003\\n    1  NAE   CA    5   0.011   0.047  -0.001\\n    1  NAE    C    6   0.137  -0.035  -0.001\\n    1  NAE    O    7   0.131  -0.156  -0.001\\n    1  NAE   H2    8  -0.225   0.105   0.087\\n    1  NAE   H3    9  -0.224   0.105  -0.091\\n    1  NAE   H4   10  -0.350  -0.108  -0.092\\n    1  NAE   H5   11  -0.351  -0.108   0.086\\n    1  NAE   H8   12   0.008   0.110  -0.090\\n    1  NAE   H9   13   0.007   0.110   0.088\\n    1  NAE  H21   14  -0.551  -0.019  -0.004\\n    1  NAE  H22   15  -0.468   0.097   0.079\\n    1  NAE  H23   16  -0.468   0.097  -0.086\\n    1  NAE   H1   17  -0.105  -0.101   0.081\\n    1  NAE   H6   18  -0.104  -0.101  -0.085\\n    2  NPE    N   19   0.254   0.038  -0.000\\n    2  NPE   C3   20   0.251   0.185  -0.000\\n    2  NPE   C4   21   0.249   0.236   0.144\\n    2  NPE   C5   22   0.245   0.386   0.144\\n    2  NPE   C6   23   0.124   0.453   0.143\\n    2  NPE   C7   24   0.121   0.591   0.143\\n    2  NPE   C8   25   0.239   0.663   0.144\\n    2  NPE   C9   26   0.360   0.597   0.145\\n    2  NPE  C10   27   0.363   0.458   0.145\\n    2  NPE   CA   28   0.384  -0.029   0.001\\n    2  NPE    C   29   0.424  -0.063  -0.141\\n    2  NPE    O   30   0.351  -0.034  -0.233\\n    2  NPE   H4   31   0.339   0.223  -0.051\\n    2  NPE   H5   32   0.161   0.219  -0.052\\n    2  NPE   H6   33   0.161   0.197   0.195\\n    2  NPE   H7   34   0.338   0.202   0.196\\n    2  NPE   H8   35   0.032   0.397   0.143\\n    2  NPE   H9   36   0.026   0.643   0.143\\n    2  NPE  H10   37   0.236   0.771   0.144\\n    2  NPE  H11   38   0.453   0.653   0.145\\n    2  NPE  H12   39   0.458   0.407   0.146\\n    2  NPE  H13   40   0.459   0.037   0.044\\n    2  NPE  H14   41   0.378  -0.120   0.059\\n    3  NAE    N   42   0.546  -0.127  -0.154\\n    3  NAE   C3   43   0.627  -0.157  -0.036\\n    3  NAE   C4   44   0.589  -0.296   0.017\\n    3  NAE   N2   45   0.670  -0.326   0.134\\n    3  NAE   CA   46   0.596  -0.165  -0.286\\n    3  NAE    C   47   0.668  -0.049  -0.348\\n    3  NAE    O   48   0.676   0.056  -0.288\\n    3  NAE   H4   49   0.732  -0.156  -0.063\\n    3  NAE   H5   50   0.609  -0.083   0.041\\n    3  NAE   H6   51   0.484  -0.297   0.045\\n    3  NAE   H7   52   0.607  -0.371  -0.060\\n    3  NAE  H10   53   0.665  -0.249  -0.275\\n    3  NAE  H11   54   0.512  -0.195  -0.349\\n    3  NAE  H21   55   0.645  -0.417   0.169\\n    3  NAE  H22   56   0.653  -0.257   0.205\\n    3  NAE  H23   57   0.767  -0.325   0.109\\n    4  NPE    N   58   0.721  -0.072  -0.473\\n    4  NPE   C3   59   0.705  -0.203  -0.537\\n    4  NPE   C4   60   0.576  -0.205  -0.620\\n    4  NPE   C5   61   0.561  -0.339  -0.686\\n    4  NPE   C6   62   0.493  -0.441  -0.621\\n    4  NPE   C7   63   0.478  -0.564  -0.681\\n    4  NPE   C8   64   0.532  -0.586  -0.807\\n    4  NPE   C9   65   0.599  -0.485  -0.872\\n    4  NPE  C10   66   0.613  -0.361  -0.812\\n    4  NPE   CA   67   0.793   0.033  -0.545\\n    4  NPE    C   68   0.937   0.034  -0.501\\n    4  NPE    O   69   0.976  -0.046  -0.418\\n    4  NPE   H4   70   0.790  -0.222  -0.603\\n    4  NPE   H5   71   0.700  -0.281  -0.461\\n    4  NPE   H6   72   0.491  -0.186  -0.555\\n    4  NPE   H7   73   0.581  -0.127  -0.696\\n    4  NPE   H8   74   0.451  -0.423  -0.523\\n    4  NPE   H9   75   0.425  -0.643  -0.630\\n    4  NPE  H10   76   0.520  -0.683  -0.854\\n    4  NPE  H11   77   0.641  -0.502  -0.970\\n    4  NPE  H12   78   0.666  -0.282  -0.863\\n    4  NPE  H13   79   0.788   0.014  -0.652\\n    4  NPE  H14   80   0.748   0.130  -0.523\\n    5  NHE    N   81   1.014   0.126  -0.561\\n    5  NHE  HN1   82   0.972   0.188  -0.629\\n    5  NHE  HN2   83   1.112   0.131  -0.535\\n   33.26197    29.07001    23.51245\\n\",\"gro\");\n\tviewer_1717437785010102.setStyle({\"stick\": {}});\n\tviewer_1717437785010102.zoomTo();\nviewer_1717437785010102.render();\n});\n</script>",
      "text/html": [
       "<div id=\"3dmolviewer_1717437785010102\"  style=\"position: relative; width: 640px; height: 480px;\">\n",
       "        <p id=\"3dmolwarning_1717437785010102\" style=\"background-color:#ffcccc;color:black\">3Dmol.js failed to load for some reason.  Please check your browser console for error messages.<br></p>\n",
       "        </div>\n",
       "<script>\n",
       "\n",
       "var loadScriptAsync = function(uri){\n",
       "  return new Promise((resolve, reject) => {\n",
       "    //this is to ignore the existence of requirejs amd\n",
       "    var savedexports, savedmodule;\n",
       "    if (typeof exports !== 'undefined') savedexports = exports;\n",
       "    else exports = {}\n",
       "    if (typeof module !== 'undefined') savedmodule = module;\n",
       "    else module = {}\n",
       "\n",
       "    var tag = document.createElement('script');\n",
       "    tag.src = uri;\n",
       "    tag.async = true;\n",
       "    tag.onload = () => {\n",
       "        exports = savedexports;\n",
       "        module = savedmodule;\n",
       "        resolve();\n",
       "    };\n",
       "  var firstScriptTag = document.getElementsByTagName('script')[0];\n",
       "  firstScriptTag.parentNode.insertBefore(tag, firstScriptTag);\n",
       "});\n",
       "};\n",
       "\n",
       "if(typeof $3Dmolpromise === 'undefined') {\n",
       "$3Dmolpromise = null;\n",
       "  $3Dmolpromise = loadScriptAsync('https://cdnjs.cloudflare.com/ajax/libs/3Dmol/2.1.0/3Dmol-min.js');\n",
       "}\n",
       "\n",
       "var viewer_1717437785010102 = null;\n",
       "var warn = document.getElementById(\"3dmolwarning_1717437785010102\");\n",
       "if(warn) {\n",
       "    warn.parentNode.removeChild(warn);\n",
       "}\n",
       "$3Dmolpromise.then(function() {\n",
       "viewer_1717437785010102 = $3Dmol.createViewer(document.getElementById(\"3dmolviewer_1717437785010102\"),{backgroundColor:\"white\"});\n",
       "viewer_1717437785010102.zoomTo();\n",
       "\tviewer_1717437785010102.addModel(\"19AE1-4-A_protonated_GMX.gro created by acpype (v: 2023.10.27) on Tue May 28 15:05:17 2024\\n 83\\n    1  NAE    N    1  -0.106  -0.043  -0.002\\n    1  NAE   C1    2  -0.225   0.042  -0.002\\n    1  NAE   C2    3  -0.351  -0.045  -0.003\\n    1  NAE   N2    4  -0.468   0.039  -0.003\\n    1  NAE   CA    5   0.011   0.047  -0.001\\n    1  NAE    C    6   0.137  -0.035  -0.001\\n    1  NAE    O    7   0.131  -0.156  -0.001\\n    1  NAE   H2    8  -0.225   0.105   0.087\\n    1  NAE   H3    9  -0.224   0.105  -0.091\\n    1  NAE   H4   10  -0.350  -0.108  -0.092\\n    1  NAE   H5   11  -0.351  -0.108   0.086\\n    1  NAE   H8   12   0.008   0.110  -0.090\\n    1  NAE   H9   13   0.007   0.110   0.088\\n    1  NAE  H21   14  -0.551  -0.019  -0.004\\n    1  NAE  H22   15  -0.468   0.097   0.079\\n    1  NAE  H23   16  -0.468   0.097  -0.086\\n    1  NAE   H1   17  -0.105  -0.101   0.081\\n    1  NAE   H6   18  -0.104  -0.101  -0.085\\n    2  NPE    N   19   0.254   0.038  -0.000\\n    2  NPE   C3   20   0.251   0.185  -0.000\\n    2  NPE   C4   21   0.249   0.236   0.144\\n    2  NPE   C5   22   0.245   0.386   0.144\\n    2  NPE   C6   23   0.124   0.453   0.143\\n    2  NPE   C7   24   0.121   0.591   0.143\\n    2  NPE   C8   25   0.239   0.663   0.144\\n    2  NPE   C9   26   0.360   0.597   0.145\\n    2  NPE  C10   27   0.363   0.458   0.145\\n    2  NPE   CA   28   0.384  -0.029   0.001\\n    2  NPE    C   29   0.424  -0.063  -0.141\\n    2  NPE    O   30   0.351  -0.034  -0.233\\n    2  NPE   H4   31   0.339   0.223  -0.051\\n    2  NPE   H5   32   0.161   0.219  -0.052\\n    2  NPE   H6   33   0.161   0.197   0.195\\n    2  NPE   H7   34   0.338   0.202   0.196\\n    2  NPE   H8   35   0.032   0.397   0.143\\n    2  NPE   H9   36   0.026   0.643   0.143\\n    2  NPE  H10   37   0.236   0.771   0.144\\n    2  NPE  H11   38   0.453   0.653   0.145\\n    2  NPE  H12   39   0.458   0.407   0.146\\n    2  NPE  H13   40   0.459   0.037   0.044\\n    2  NPE  H14   41   0.378  -0.120   0.059\\n    3  NAE    N   42   0.546  -0.127  -0.154\\n    3  NAE   C3   43   0.627  -0.157  -0.036\\n    3  NAE   C4   44   0.589  -0.296   0.017\\n    3  NAE   N2   45   0.670  -0.326   0.134\\n    3  NAE   CA   46   0.596  -0.165  -0.286\\n    3  NAE    C   47   0.668  -0.049  -0.348\\n    3  NAE    O   48   0.676   0.056  -0.288\\n    3  NAE   H4   49   0.732  -0.156  -0.063\\n    3  NAE   H5   50   0.609  -0.083   0.041\\n    3  NAE   H6   51   0.484  -0.297   0.045\\n    3  NAE   H7   52   0.607  -0.371  -0.060\\n    3  NAE  H10   53   0.665  -0.249  -0.275\\n    3  NAE  H11   54   0.512  -0.195  -0.349\\n    3  NAE  H21   55   0.645  -0.417   0.169\\n    3  NAE  H22   56   0.653  -0.257   0.205\\n    3  NAE  H23   57   0.767  -0.325   0.109\\n    4  NPE    N   58   0.721  -0.072  -0.473\\n    4  NPE   C3   59   0.705  -0.203  -0.537\\n    4  NPE   C4   60   0.576  -0.205  -0.620\\n    4  NPE   C5   61   0.561  -0.339  -0.686\\n    4  NPE   C6   62   0.493  -0.441  -0.621\\n    4  NPE   C7   63   0.478  -0.564  -0.681\\n    4  NPE   C8   64   0.532  -0.586  -0.807\\n    4  NPE   C9   65   0.599  -0.485  -0.872\\n    4  NPE  C10   66   0.613  -0.361  -0.812\\n    4  NPE   CA   67   0.793   0.033  -0.545\\n    4  NPE    C   68   0.937   0.034  -0.501\\n    4  NPE    O   69   0.976  -0.046  -0.418\\n    4  NPE   H4   70   0.790  -0.222  -0.603\\n    4  NPE   H5   71   0.700  -0.281  -0.461\\n    4  NPE   H6   72   0.491  -0.186  -0.555\\n    4  NPE   H7   73   0.581  -0.127  -0.696\\n    4  NPE   H8   74   0.451  -0.423  -0.523\\n    4  NPE   H9   75   0.425  -0.643  -0.630\\n    4  NPE  H10   76   0.520  -0.683  -0.854\\n    4  NPE  H11   77   0.641  -0.502  -0.970\\n    4  NPE  H12   78   0.666  -0.282  -0.863\\n    4  NPE  H13   79   0.788   0.014  -0.652\\n    4  NPE  H14   80   0.748   0.130  -0.523\\n    5  NHE    N   81   1.014   0.126  -0.561\\n    5  NHE  HN1   82   0.972   0.188  -0.629\\n    5  NHE  HN2   83   1.112   0.131  -0.535\\n   33.26197    29.07001    23.51245\\n\",\"gro\");\n",
       "\tviewer_1717437785010102.setStyle({\"stick\": {}});\n",
       "\tviewer_1717437785010102.zoomTo();\n",
       "viewer_1717437785010102.render();\n",
       "});\n",
       "</script>"
      ]
     },
     "metadata": {},
     "output_type": "display_data"
    }
   ],
   "source": [
    "import py3Dmol\n",
    "\n",
    "# Load the GRO TPR file content\n",
    "with open('19AE1-4-A_protonated_GMX.gro', 'r') as file:  # Removed the extra space in the filename\n",
    "    gro_content = file.read()\n",
    "\n",
    "# Initialize the viewer\n",
    "view = py3Dmol.view()\n",
    "\n",
    "# Add the GRO content to the viewer\n",
    "view.addModel(gro_content, 'gro')  # Ensure 'gro' matches the format of your file\n",
    "\n",
    "# Set the style for better visualization\n",
    "view.setStyle({'stick': {}})\n",
    "\n",
    "# Zoom to fit the molecule in the viewer\n",
    "view.zoomTo()\n",
    "\n",
    "# Show the viewer\n",
    "view.show()\n"
   ]
  },
  {
   "cell_type": "markdown",
   "id": "1c008ddb-12ab-478e-ba60-39c97553aae4",
   "metadata": {},
   "source": [
    "# Prepare the tpr file using Gromacs"
   ]
  },
  {
   "cell_type": "code",
   "execution_count": 4,
   "id": "665f7b02-de14-46c9-a831-27f99e707558",
   "metadata": {
    "scrolled": true
   },
   "outputs": [
    {
     "name": "stdout",
     "output_type": "stream",
     "text": [
      "                   :-) GROMACS - gmx, 2023.3-conda_forge (-:\n",
      "\n",
      "Executable:   /Users/starwingchen/anaconda3/envs/gromacs-env/bin.AVX2_256/gmx\n",
      "Data prefix:  /Users/starwingchen/anaconda3/envs/gromacs-env\n",
      "Working dir:  /Users/starwingchen/Voelz_Lab/git/peptoid_24summer/test-output/19AE1-4-A/protonated/19AE1-4-A_protonated.amb2gmx\n",
      "Command line:\n",
      "  gmx -h\n",
      "\n",
      "SYNOPSIS\n",
      "\n",
      "gmx [-[no]h] [-[no]quiet] [-[no]version] [-[no]copyright] [-nice <int>]\n",
      "    [-[no]backup]\n",
      "\n",
      "OPTIONS\n",
      "\n",
      "Other options:\n",
      "\n",
      " -[no]h                     (no)\n",
      "           Print help and quit\n",
      " -[no]quiet                 (no)\n",
      "           Do not print common startup info or quotes\n",
      " -[no]version               (no)\n",
      "           Print extended version information and quit\n",
      " -[no]copyright             (no)\n",
      "           Print copyright information on startup\n",
      " -nice   <int>              (19)\n",
      "           Set the nicelevel (default depends on command)\n",
      " -[no]backup                (yes)\n",
      "           Write backups if output files exist\n",
      "\n",
      "Additional help is available on the following topics:\n",
      "    commands    List of available commands\n",
      "    selections  Selection syntax and usage\n",
      "To access the help, use 'gmx help <topic>'.\n",
      "For help on a command, use 'gmx help <command>'.\n",
      "\n",
      "GROMACS reminds you: \"I Am Testing Your Grey Matter\" (Red Hot Chili Peppers)\n",
      "\n"
     ]
    }
   ],
   "source": [
    "!gmx -h"
   ]
  },
  {
   "cell_type": "code",
   "execution_count": 8,
   "id": "b2a5a4d2-d2c3-4609-91a9-528c36edd951",
   "metadata": {},
   "outputs": [
    {
     "name": "stdout",
     "output_type": "stream",
     "text": [
      "               :-) GROMACS - gmx editconf, 2023.3-conda_forge (-:\n",
      "\n",
      "Executable:   /Users/starwingchen/anaconda3/envs/gromacs-env/bin.AVX2_256/gmx\n",
      "Data prefix:  /Users/starwingchen/anaconda3/envs/gromacs-env\n",
      "Working dir:  /Users/starwingchen/Voelz_Lab/git/peptoid_24summer/test-output/19AE1-4-A/protonated/19AE1-4-A_protonated.amb2gmx\n",
      "Command line:\n",
      "  gmx editconf -f 19AE1-4-A_protonated_GMX.gro -o 19AE1-4-A_protonated_GMX_boxed.gro -bt cubic -d 1.0\n",
      "\n",
      "Note that major changes are planned in future for editconf, to improve usability and utility.\n",
      "Read 83 atoms\n",
      "Volume: 22734.8 nm^3, corresponds to roughly 10230600 electrons\n",
      "No velocities found\n",
      "    system size :  1.663  1.454  1.175 (nm)\n",
      "    diameter    :  1.786               (nm)\n",
      "    center      :  0.369 -0.027 -0.193 (nm)\n",
      "    box vectors : 33.262 29.070 23.512 (nm)\n",
      "    box angles  :  90.00  90.00  90.00 (degrees)\n",
      "    box volume  :22734.79               (nm^3)\n",
      "    shift       :  1.524  1.920  2.087 (nm)\n",
      "new center      :  1.893  1.893  1.893 (nm)\n",
      "new box vectors :  3.786  3.786  3.786 (nm)\n",
      "new box angles  :  90.00  90.00  90.00 (degrees)\n",
      "new box volume  :  54.28               (nm^3)\n",
      "\n",
      "Back Off! I just backed up 19AE1-4-A_protonated_GMX_boxed.gro to ./#19AE1-4-A_protonated_GMX_boxed.gro.1#\n",
      "\n",
      "GROMACS reminds you: \"Schrödinger's backup: The condition of any backup is unknown until a restore is attempted.\" (Anonymous)\n",
      "\n"
     ]
    }
   ],
   "source": [
    "# make a cubic 1A box\n",
    "\n",
    "!gmx editconf -f 19AE1-4-A_protonated_GMX.gro -o 19AE1-4-A_protonated_GMX_boxed.gro -bt cubic -d 1.0"
   ]
  },
  {
   "cell_type": "code",
   "execution_count": 11,
   "id": "29dfe8f7-6695-485c-9599-f8b0c2de83f5",
   "metadata": {
    "scrolled": true
   },
   "outputs": [
    {
     "name": "stdout",
     "output_type": "stream",
     "text": [
      "               :-) GROMACS - gmx solvate, 2023.3-conda_forge (-:\n",
      "\n",
      "Executable:   /Users/starwingchen/anaconda3/envs/gromacs-env/bin.AVX2_256/gmx\n",
      "Data prefix:  /Users/starwingchen/anaconda3/envs/gromacs-env\n",
      "Working dir:  /Users/starwingchen/Voelz_Lab/git/peptoid_24summer/test-output/19AE1-4-A/protonated/19AE1-4-A_protonated.amb2gmx\n",
      "Command line:\n",
      "  gmx solvate -cp 19AE1-4-A_protonated_GMX_boxed.gro -cs spc216.gro -o 19AE1-4-A_protonated_GMX_solv.gro\n",
      "\n",
      "Reading solute configuration\n",
      "Reading solvent configuration\n",
      "\n",
      "Initialising inter-atomic distances...\n",
      "\n",
      "WARNING: Masses and atomic (Van der Waals) radii will be guessed\n",
      "         based on residue and atom names, since they could not be\n",
      "         definitively assigned from the information in your input\n",
      "         files. These guessed numbers might deviate from the mass\n",
      "         and radius of the atom type. Please check the output\n",
      "         files if necessary. Note, that this functionality may\n",
      "         be removed in a future GROMACS version. Please, consider\n",
      "         using another file format for your input.\n",
      "\n",
      "NOTE: From version 5.0 gmx solvate uses the Van der Waals radii\n",
      "from the source below. This means the results may be different\n",
      "compared to previous GROMACS versions.\n",
      "\n",
      "++++ PLEASE READ AND CITE THE FOLLOWING REFERENCE ++++\n",
      "A. Bondi\n",
      "van der Waals Volumes and Radii\n",
      "J. Phys. Chem. 68 (1964) pp. 441-451\n",
      "-------- -------- --- Thank You --- -------- --------\n",
      "\n",
      "Generating solvent configuration\n",
      "Will generate new solvent configuration of 3x3x3 boxes\n",
      "Solvent box contains 6921 atoms in 2307 residues\n",
      "Removed 1815 solvent atoms due to solvent-solvent overlap\n",
      "Removed 90 solvent atoms due to solute-solvent overlap\n",
      "Sorting configuration\n",
      "Found 1 molecule type:\n",
      "    SOL (   3 atoms):  1672 residues\n",
      "Generated solvent containing 5016 atoms in 1672 residues\n",
      "Writing generated configuration to 19AE1-4-A_protonated_GMX_solv.gro\n",
      "\n",
      "Output configuration contains 5099 atoms in 1677 residues\n",
      "Volume                 :     54.2794 (nm^3)\n",
      "Density                :      938.44 (g/l)\n",
      "Number of solvent molecules:   1672   \n",
      "\n",
      "\n",
      "GROMACS reminds you: \"Would You Like to Be the Monster Tonight ?\" (Captain Beefheart)\n",
      "\n"
     ]
    }
   ],
   "source": [
    "# Fill the box with water as solvent \n",
    "!gmx solvate -cp 19AE1-4-A_protonated_GMX_boxed.gro -cs spc216.gro -o 19AE1-4-A_protonated_GMX_solv.gro"
   ]
  },
  {
   "cell_type": "code",
   "execution_count": 12,
   "id": "85efa5bd-1ff5-48ec-bb96-e4c5226172bd",
   "metadata": {
    "scrolled": true
   },
   "outputs": [
    {
     "name": "stdout",
     "output_type": "stream",
     "text": [
      "               :-) GROMACS - gmx make_ndx, 2023.3-conda_forge (-:\n",
      "\n",
      "Executable:   /Users/starwingchen/anaconda3/envs/gromacs-env/bin.AVX2_256/gmx\n",
      "Data prefix:  /Users/starwingchen/anaconda3/envs/gromacs-env\n",
      "Working dir:  /Users/starwingchen/Voelz_Lab/git/peptoid_24summer/test-output/19AE1-4-A/protonated/19AE1-4-A_protonated.amb2gmx\n",
      "Command line:\n",
      "  gmx make_ndx -f 19AE1-4-A_protonated_GMX_solv.gro -o index.ndx\n",
      "\n",
      "\n",
      "Reading structure file\n",
      "Going to read 0 old index file(s)\n",
      "Analysing residue names:\n",
      "There are:     4      Other residues\n",
      "There are:     1    Protein residues\n",
      "There are:  1672      Water residues\n",
      "Analysing residues not classified as Protein/DNA/RNA/Water and splitting into groups...\n",
      "Analysing Protein...\n",
      "\n",
      "  0 System              :  5099 atoms\n",
      "  1 Other               :    80 atoms\n",
      "  2 NAE                 :    34 atoms\n",
      "  3 NPE                 :    46 atoms\n",
      "  4 Protein             :     3 atoms\n",
      "  5 Protein-H           :     1 atoms\n",
      "  6 C-alpha             :     0 atoms\n",
      "  7 Backbone            :     1 atoms\n",
      "  8 MainChain           :     1 atoms\n",
      "  9 MainChain+Cb        :     1 atoms\n",
      " 10 MainChain+H         :     1 atoms\n",
      " 11 SideChain           :     2 atoms\n",
      " 12 SideChain-H         :     0 atoms\n",
      " 13 Prot-Masses         :     3 atoms\n",
      " 14 non-Protein         :  5096 atoms\n",
      " 15 Water               :  5016 atoms\n",
      " 16 SOL                 :  5016 atoms\n",
      " 17 non-Water           :    83 atoms\n",
      "\n",
      " nr : group      '!': not  'name' nr name   'splitch' nr    Enter: list groups\n",
      " 'a': atom       '&': and  'del' nr         'splitres' nr   'l': list residues\n",
      " 't': atom type  '|': or   'keep' nr        'splitat' nr    'h': help\n",
      " 'r': residue              'res' nr         'chain' char\n",
      " \"name\": group             'case': case sensitive           'q': save and quit\n",
      " 'ri': residue index\n",
      "\n",
      "> ^C\n"
     ]
    }
   ],
   "source": [
    "# make an index file\n",
    "!gmx make_ndx -f 19AE1-4-A_protonated_GMX_solv.gro -o index.ndx"
   ]
  },
  {
   "cell_type": "code",
   "execution_count": 5,
   "id": "4346dc0b-68f7-4d1d-bd6c-2308f271e41a",
   "metadata": {
    "scrolled": true
   },
   "outputs": [
    {
     "name": "stdout",
     "output_type": "stream",
     "text": [
      "                :-) GROMACS - gmx grompp, 2023.3-conda_forge (-:\n",
      "\n",
      "Executable:   /Users/starwingchen/anaconda3/envs/gromacs-env/bin.AVX2_256/gmx\n",
      "Data prefix:  /Users/starwingchen/anaconda3/envs/gromacs-env\n",
      "Working dir:  /Users/starwingchen/Voelz_Lab/git/peptoid_24summer/test-output/19AE1-4-A/protonated/19AE1-4-A_protonated.amb2gmx\n",
      "Command line:\n",
      "  gmx grompp -f minimize.mdp -c 19AE1-4-A_protonated_GMX_solv.gro -p 19AE1-4-A_protonated_GMX_solv.top -n index.ndx -o minimize.tpr\n",
      "\n",
      "\n",
      "-------------------------------------------------------\n",
      "Program:     gmx grompp, version 2023.3-conda_forge\n",
      "Source file: src/gromacs/commandline/cmdlineparser.cpp (line 271)\n",
      "Function:    void gmx::CommandLineParser::parse(int *, char **)\n",
      "\n",
      "Error in user input:\n",
      "Invalid command-line options\n",
      "  In command-line option -p\n",
      "    File '19AE1-4-A_protonated_GMX_solv.top' does not exist or is not\n",
      "    accessible.\n",
      "    The file could not be opened.\n",
      "      Reason: No such file or directory\n",
      "      (call to fopen() returned error code 2)\n",
      "  In command-line option -n\n",
      "    File 'index.ndx' does not exist or is not accessible.\n",
      "    The file could not be opened.\n",
      "      Reason: No such file or directory\n",
      "      (call to fopen() returned error code 2)\n",
      "\n",
      "For more information and tips for troubleshooting, please check the GROMACS\n",
      "website at http://www.gromacs.org/Documentation/Errors\n",
      "-------------------------------------------------------\n"
     ]
    }
   ],
   "source": [
    "# Add counterions at ~100 mM to neutralize the system\n",
    "### We need a tpr so that genion will work!\n",
    "!gmx grompp -f minimize.mdp -c 19AE1-4-A_protonated_GMX_solv.gro -p 19AE1-4-A_protonated_GMX_solv.top -n index.ndx -o minimize.tpr"
   ]
  },
  {
   "cell_type": "code",
   "execution_count": null,
   "id": "b6e98bd1-a43e-4871-9255-646146c29629",
   "metadata": {},
   "outputs": [],
   "source": []
  }
 ],
 "metadata": {
  "kernelspec": {
   "display_name": "GROMACS",
   "language": "python",
   "name": "gromacs-kernel"
  },
  "language_info": {
   "codemirror_mode": {
    "name": "ipython",
    "version": 3
   },
   "file_extension": ".py",
   "mimetype": "text/x-python",
   "name": "python",
   "nbconvert_exporter": "python",
   "pygments_lexer": "ipython3",
   "version": "3.8.18"
  }
 },
 "nbformat": 4,
 "nbformat_minor": 5
}
